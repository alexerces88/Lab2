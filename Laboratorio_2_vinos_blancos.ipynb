{
  "nbformat": 4,
  "nbformat_minor": 0,
  "metadata": {
    "colab": {
      "provenance": []
    },
    "kernelspec": {
      "name": "python3",
      "display_name": "Python 3"
    },
    "language_info": {
      "name": "python"
    }
  },
  "cells": [
    {
      "cell_type": "code",
      "execution_count": 1,
      "metadata": {
        "id": "qUxgZvq33-ID"
      },
      "outputs": [],
      "source": [
        "# utilizado para manejos de directorios y rutas\n",
        "import os\n",
        "\n",
        "# Computacion vectorial y cientifica para python\n",
        "import numpy as np\n",
        "\n",
        "# Librerias para graficación (trazado de gráficos)\n",
        "from matplotlib import pyplot\n",
        "from mpl_toolkits.mplot3d import Axes3D  # Necesario para graficar superficies 3D\n",
        "\n",
        "# llama a matplotlib a embeber graficas dentro de los cuadernillos\n",
        "%matplotlib inline"
      ]
    },
    {
      "cell_type": "code",
      "source": [
        "import pandas as pd\n",
        "from sklearn.preprocessing import LabelEncoder\n",
        "from datetime import datetime"
      ],
      "metadata": {
        "id": "3zeLCpwjiQCT"
      },
      "execution_count": 2,
      "outputs": []
    },
    {
      "cell_type": "code",
      "source": [
        "#Carga de dataset\n",
        "data = pd.read_csv('/content/White.csv')"
      ],
      "metadata": {
        "id": "V0ZXOA-6iUmV"
      },
      "execution_count": 3,
      "outputs": []
    },
    {
      "cell_type": "code",
      "source": [
        "print(data)"
      ],
      "metadata": {
        "colab": {
          "base_uri": "https://localhost:8080/"
        },
        "id": "h325dVhXicrs",
        "outputId": "af08f873-8b17-48a9-d6a7-55f6de9bdec6"
      },
      "execution_count": 4,
      "outputs": [
        {
          "output_type": "stream",
          "name": "stdout",
          "text": [
            "                         Name      Country                      Region  \\\n",
            "0             Vermentino 2017        Italy                     Toscana   \n",
            "1           Ronco Broilo 2010        Italy  Colli Orientali del Friuli   \n",
            "2     Weisser Schiefer s 2017      Austria               Südburgenland   \n",
            "3             Chardonnay 2018      Germany                 Rheinhessen   \n",
            "4        Maganza Zibibbo 2018        Italy             Terre Siciliane   \n",
            "...                       ...          ...                         ...   \n",
            "3759     Sauvignon Blanc 2019  New Zealand                 Marlborough   \n",
            "3760   Vinho Verde Sweet N.V.     Portugal                 Vinho Verde   \n",
            "3761     Sauvignon Blanc 2018  New Zealand                 Marlborough   \n",
            "3762     Sauvignon Blanc 2019  New Zealand                 Marlborough   \n",
            "3763  Vinho Verde Branco N.V.     Portugal                 Vinho Verde   \n",
            "\n",
            "                       Winery  Rating  NumberOfRatings  Price  Year  \n",
            "0         Famiglia Castellani     3.8               25   5.65  2017  \n",
            "1     Conte d'Attimis Maniago     4.3               25  44.90  2010  \n",
            "2        Weinbau Uwe Schiefer     4.2               25  33.25  2017  \n",
            "3           Krämer - Straight     3.9               25   8.99  2018  \n",
            "4                   Luna Gaia     3.9               25   8.60  2018  \n",
            "...                       ...     ...              ...    ...   ...  \n",
            "3759               Oyster Bay     4.0             4423  10.66  2019  \n",
            "3760             Casal Garcia     4.0             4609   5.05  N.V.  \n",
            "3761             Kim Crawford     3.9             5105  14.90  2018  \n",
            "3762               Hans Greyl     4.2             5817   7.75  2019  \n",
            "3763             Casal Garcia     3.7            62980   4.35  N.V.  \n",
            "\n",
            "[3764 rows x 8 columns]\n"
          ]
        }
      ]
    },
    {
      "cell_type": "code",
      "source": [
        "data.info()"
      ],
      "metadata": {
        "colab": {
          "base_uri": "https://localhost:8080/"
        },
        "id": "ZoYIJwRyifh-",
        "outputId": "395497bb-72e9-4d4d-90e1-a9ee2bd5a16f"
      },
      "execution_count": 5,
      "outputs": [
        {
          "output_type": "stream",
          "name": "stdout",
          "text": [
            "<class 'pandas.core.frame.DataFrame'>\n",
            "RangeIndex: 3764 entries, 0 to 3763\n",
            "Data columns (total 8 columns):\n",
            " #   Column           Non-Null Count  Dtype  \n",
            "---  ------           --------------  -----  \n",
            " 0   Name             3764 non-null   object \n",
            " 1   Country          3764 non-null   object \n",
            " 2   Region           3764 non-null   object \n",
            " 3   Winery           3764 non-null   object \n",
            " 4   Rating           3764 non-null   float64\n",
            " 5   NumberOfRatings  3764 non-null   int64  \n",
            " 6   Price            3764 non-null   float64\n",
            " 7   Year             3764 non-null   object \n",
            "dtypes: float64(2), int64(1), object(5)\n",
            "memory usage: 235.4+ KB\n"
          ]
        }
      ]
    },
    {
      "cell_type": "code",
      "source": [
        "columnas_seleccionadas = list(range(0, 8)) + list(range(1, 8))\n",
        "X = data.iloc[:, columnas_seleccionadas]\n",
        "y = data.iloc[:, 6]\n",
        "m = y.size"
      ],
      "metadata": {
        "id": "csTza8Ku0o2m"
      },
      "execution_count": 94,
      "outputs": []
    },
    {
      "cell_type": "code",
      "source": [
        "data.info()"
      ],
      "metadata": {
        "colab": {
          "base_uri": "https://localhost:8080/"
        },
        "id": "lZDcIIdF0yvV",
        "outputId": "db23d363-ba4a-4c6d-f316-1e86a4868e01"
      },
      "execution_count": 95,
      "outputs": [
        {
          "output_type": "stream",
          "name": "stdout",
          "text": [
            "<class 'pandas.core.frame.DataFrame'>\n",
            "RangeIndex: 3764 entries, 0 to 3763\n",
            "Data columns (total 8 columns):\n",
            " #   Column           Non-Null Count  Dtype  \n",
            "---  ------           --------------  -----  \n",
            " 0   Name             3764 non-null   int64  \n",
            " 1   Country          3764 non-null   int64  \n",
            " 2   Region           3764 non-null   int64  \n",
            " 3   Winery           3764 non-null   int64  \n",
            " 4   Rating           3764 non-null   float64\n",
            " 5   NumberOfRatings  3764 non-null   int64  \n",
            " 6   Price            3764 non-null   float64\n",
            " 7   Year             3764 non-null   int64  \n",
            "dtypes: float64(2), int64(6)\n",
            "memory usage: 235.4 KB\n"
          ]
        }
      ]
    },
    {
      "cell_type": "code",
      "source": [
        "#variables categoricas\n",
        "columnas_categoricas = data.select_dtypes(include=['object']).columns\n",
        "#variables fechas\n",
        "columnas_fechas = data.select_dtypes(include=['datetime64']).columns"
      ],
      "metadata": {
        "id": "sFmWfM7Mjn9Z"
      },
      "execution_count": 96,
      "outputs": []
    },
    {
      "cell_type": "code",
      "source": [
        "#Procesamiento de frases o palabras\n",
        "for columna in columnas_categoricas:\n",
        "  le = LabelEncoder()\n",
        "  data[columna] = le.fit_transform(data[columna])"
      ],
      "metadata": {
        "id": "GcxRaOoqkOyD"
      },
      "execution_count": 97,
      "outputs": []
    },
    {
      "cell_type": "code",
      "source": [
        "#Fechas a numeros\n",
        "for columna in columnas_fechas:\n",
        "  data[columna] = pd.to_numeric(data[columna].map(datetime.timestamp))"
      ],
      "metadata": {
        "id": "hVuep7WXkQvA"
      },
      "execution_count": 98,
      "outputs": []
    },
    {
      "cell_type": "code",
      "source": [
        "#resultado\n",
        "print(data)"
      ],
      "metadata": {
        "colab": {
          "base_uri": "https://localhost:8080/"
        },
        "id": "vHzN_Uj0kS96",
        "outputId": "6d1ec57b-cc75-47f4-fc17-e8f6b25326f7"
      },
      "execution_count": 99,
      "outputs": [
        {
          "output_type": "stream",
          "name": "stdout",
          "text": [
            "      Name  Country  Region  Winery  Rating  NumberOfRatings  Price  Year\n",
            "0     2762       15     389     521     3.8               25   5.65    17\n",
            "1     2212       15     104     325     4.3               25  44.90    10\n",
            "2     2957        2     374    1345     4.2               25  33.25    17\n",
            "3      439       11     309     736     3.9               25   8.99    18\n",
            "4     1564       15     382     818     3.9               25   8.60    18\n",
            "...    ...      ...     ...     ...     ...              ...    ...   ...\n",
            "3759  2357       19     221     965     4.0             4423  10.66    19\n",
            "3760  2837       20     427     215     4.0             4609   5.05    21\n",
            "3761  2356       19     221     717     3.9             5105  14.90    18\n",
            "3762  2357       19     221     632     4.2             5817   7.75    19\n",
            "3763  2833       20     427     215     3.7            62980   4.35    21\n",
            "\n",
            "[3764 rows x 8 columns]\n"
          ]
        }
      ]
    },
    {
      "cell_type": "code",
      "source": [
        "data.info()"
      ],
      "metadata": {
        "colab": {
          "base_uri": "https://localhost:8080/"
        },
        "id": "tJ9GFsACksGy",
        "outputId": "797a9f14-43c3-4e22-98d8-26e646cadbe4"
      },
      "execution_count": 100,
      "outputs": [
        {
          "output_type": "stream",
          "name": "stdout",
          "text": [
            "<class 'pandas.core.frame.DataFrame'>\n",
            "RangeIndex: 3764 entries, 0 to 3763\n",
            "Data columns (total 8 columns):\n",
            " #   Column           Non-Null Count  Dtype  \n",
            "---  ------           --------------  -----  \n",
            " 0   Name             3764 non-null   int64  \n",
            " 1   Country          3764 non-null   int64  \n",
            " 2   Region           3764 non-null   int64  \n",
            " 3   Winery           3764 non-null   int64  \n",
            " 4   Rating           3764 non-null   float64\n",
            " 5   NumberOfRatings  3764 non-null   int64  \n",
            " 6   Price            3764 non-null   float64\n",
            " 7   Year             3764 non-null   int64  \n",
            "dtypes: float64(2), int64(6)\n",
            "memory usage: 235.4 KB\n"
          ]
        }
      ]
    },
    {
      "cell_type": "code",
      "source": [
        "# lectura de datos\n",
        "columnas_seleccionadas = list(range(0, 6)) + list(range(6, 8))\n",
        "X = data.iloc[:, columnas_seleccionadas]\n",
        "y = data.iloc[:, 6]\n",
        "m = y.size"
      ],
      "metadata": {
        "id": "v_MXrmzd3DGa"
      },
      "execution_count": 108,
      "outputs": []
    },
    {
      "cell_type": "code",
      "source": [
        "print(X)\n",
        "print('-'*25)\n",
        "print(y)"
      ],
      "metadata": {
        "colab": {
          "base_uri": "https://localhost:8080/"
        },
        "id": "x1NBC6A6xFoC",
        "outputId": "113dae89-b113-4a7c-ccae-a181fbf9edae"
      },
      "execution_count": 109,
      "outputs": [
        {
          "output_type": "stream",
          "name": "stdout",
          "text": [
            "      Name  Country  Region  Winery  Rating  NumberOfRatings  Price  Year\n",
            "0     2762       15     389     521     3.8               25   5.65    17\n",
            "1     2212       15     104     325     4.3               25  44.90    10\n",
            "2     2957        2     374    1345     4.2               25  33.25    17\n",
            "3      439       11     309     736     3.9               25   8.99    18\n",
            "4     1564       15     382     818     3.9               25   8.60    18\n",
            "...    ...      ...     ...     ...     ...              ...    ...   ...\n",
            "3759  2357       19     221     965     4.0             4423  10.66    19\n",
            "3760  2837       20     427     215     4.0             4609   5.05    21\n",
            "3761  2356       19     221     717     3.9             5105  14.90    18\n",
            "3762  2357       19     221     632     4.2             5817   7.75    19\n",
            "3763  2833       20     427     215     3.7            62980   4.35    21\n",
            "\n",
            "[3764 rows x 8 columns]\n",
            "-------------------------\n",
            "0        5.65\n",
            "1       44.90\n",
            "2       33.25\n",
            "3        8.99\n",
            "4        8.60\n",
            "        ...  \n",
            "3759    10.66\n",
            "3760     5.05\n",
            "3761    14.90\n",
            "3762     7.75\n",
            "3763     4.35\n",
            "Name: Price, Length: 3764, dtype: float64\n"
          ]
        }
      ]
    },
    {
      "cell_type": "code",
      "source": [
        "def  featureNormalize(X):\n",
        "    X_norm = X.copy()\n",
        "    mu = np.zeros(X.shape[1])\n",
        "    sigma = np.zeros(X.shape[1])\n",
        "\n",
        "    mu = np.mean(X, axis = 0)\n",
        "    sigma = np.std(X, axis = 0)\n",
        "    X_norm = (X - mu) / sigma\n",
        "\n",
        "    return X_norm, mu, sigma"
      ],
      "metadata": {
        "id": "DrrFytt2gkI8"
      },
      "execution_count": 110,
      "outputs": []
    },
    {
      "cell_type": "code",
      "source": [
        "# llama featureNormalize con los datos cargados\n",
        "X_norm, mu, sigma = featureNormalize(X)\n",
        "\n",
        "print(X)\n",
        "print('Media calculada:', mu)\n",
        "print('Desviación estandar calculada:', sigma)\n",
        "print(X_norm)\n",
        "print (y)"
      ],
      "metadata": {
        "colab": {
          "base_uri": "https://localhost:8080/"
        },
        "id": "MhHhItqc4YLy",
        "outputId": "35b597f1-f74d-4bee-bff3-767e4b95e825"
      },
      "execution_count": 111,
      "outputs": [
        {
          "output_type": "stream",
          "name": "stdout",
          "text": [
            "      Name  Country  Region  Winery  Rating  NumberOfRatings  Price  Year\n",
            "0     2762       15     389     521     3.8               25   5.65    17\n",
            "1     2212       15     104     325     4.3               25  44.90    10\n",
            "2     2957        2     374    1345     4.2               25  33.25    17\n",
            "3      439       11     309     736     3.9               25   8.99    18\n",
            "4     1564       15     382     818     3.9               25   8.60    18\n",
            "...    ...      ...     ...     ...     ...              ...    ...   ...\n",
            "3759  2357       19     221     965     4.0             4423  10.66    19\n",
            "3760  2837       20     427     215     4.0             4609   5.05    21\n",
            "3761  2356       19     221     717     3.9             5105  14.90    18\n",
            "3762  2357       19     221     632     4.2             5817   7.75    19\n",
            "3763  2833       20     427     215     3.7            62980   4.35    21\n",
            "\n",
            "[3764 rows x 8 columns]\n",
            "Media calculada: Name               1519.124867\n",
            "Country              13.535600\n",
            "Region              255.731934\n",
            "Winery              749.134431\n",
            "Rating                3.817906\n",
            "NumberOfRatings     187.567216\n",
            "Price                20.620319\n",
            "Year                 17.164453\n",
            "dtype: float64\n",
            "Desviación estandar calculada: Name                885.764759\n",
            "Country               7.052675\n",
            "Region              122.508043\n",
            "Winery              401.219879\n",
            "Rating                0.266792\n",
            "NumberOfRatings    1071.328100\n",
            "Price                30.924306\n",
            "Year                  1.803380\n",
            "dtype: float64\n",
            "          Name   Country    Region    Winery    Rating  NumberOfRatings  \\\n",
            "0     1.403166  0.207637  1.087831 -0.568602 -0.067118        -0.151744   \n",
            "1     0.782234  0.207637 -1.238547 -1.057112  1.807004        -0.151744   \n",
            "2     1.623315 -1.635635  0.965390  1.485135  1.432180        -0.151744   \n",
            "3    -1.219426 -0.359523  0.434813 -0.032736  0.307707        -0.151744   \n",
            "4     0.050663  0.207637  1.030692  0.171640  0.307707        -0.151744   \n",
            "...        ...       ...       ...       ...       ...              ...   \n",
            "3759  0.945934  0.774798 -0.283507  0.538023  0.682531         3.953441   \n",
            "3760  1.487839  0.916588  1.398015 -1.331276  0.682531         4.127058   \n",
            "3761  0.944805  0.774798 -0.283507 -0.080092  0.307707         4.590034   \n",
            "3762  0.945934  0.774798 -0.283507 -0.291946  1.432180         5.254630   \n",
            "3763  1.483323  0.916588  1.398015 -1.331276 -0.441942        58.611767   \n",
            "\n",
            "         Price      Year  \n",
            "0    -0.484096 -0.091191  \n",
            "1     0.785133 -3.972791  \n",
            "2     0.408406 -0.091191  \n",
            "3    -0.376090  0.463323  \n",
            "4    -0.388701  0.463323  \n",
            "...        ...       ...  \n",
            "3759 -0.322087  1.017837  \n",
            "3760 -0.503498  2.126866  \n",
            "3761 -0.184978  0.463323  \n",
            "3762 -0.416188  1.017837  \n",
            "3763 -0.526134  2.126866  \n",
            "\n",
            "[3764 rows x 8 columns]\n",
            "0        5.65\n",
            "1       44.90\n",
            "2       33.25\n",
            "3        8.99\n",
            "4        8.60\n",
            "        ...  \n",
            "3759    10.66\n",
            "3760     5.05\n",
            "3761    14.90\n",
            "3762     7.75\n",
            "3763     4.35\n",
            "Name: Price, Length: 3764, dtype: float64\n"
          ]
        }
      ]
    },
    {
      "cell_type": "code",
      "source": [
        "# Añade el termino de interseccion a X\n",
        "# (Columna de unos para X0)\n",
        "X = np.concatenate([np.ones((m, 1)), X_norm], axis=1)"
      ],
      "metadata": {
        "id": "EB4cCmdm4bxJ"
      },
      "execution_count": 112,
      "outputs": []
    },
    {
      "cell_type": "code",
      "source": [
        "print(X)"
      ],
      "metadata": {
        "colab": {
          "base_uri": "https://localhost:8080/"
        },
        "id": "jxdWrQDC4fcD",
        "outputId": "bc9e9eac-9f48-4a52-e639-4ea34c457b53"
      },
      "execution_count": 113,
      "outputs": [
        {
          "output_type": "stream",
          "name": "stdout",
          "text": [
            "[[ 1.          1.40316616  0.20763745 ... -0.15174363 -0.48409554\n",
            "  -0.09119138]\n",
            " [ 1.          0.7822338   0.20763745 ... -0.15174363  0.7851326\n",
            "  -3.97279142]\n",
            " [ 1.          1.6233149  -1.63563466 ... -0.15174363  0.40840629\n",
            "  -0.09119138]\n",
            " ...\n",
            " [ 1.          0.94480518  0.77479811 ...  4.59003435 -0.18497808\n",
            "   0.46332291]\n",
            " [ 1.          0.94593415  0.77479811 ...  5.25463001 -0.41618779\n",
            "   1.0178372 ]\n",
            " [ 1.          1.48332288  0.91658827 ... 58.61176682 -0.52613367\n",
            "   2.12686579]]\n"
          ]
        }
      ]
    },
    {
      "cell_type": "code",
      "source": [
        "def computeCostMulti(X, y, theta):\n",
        "    # Inicializa algunos valores utiles\n",
        "    m = y.shape[0] # numero de ejemplos de entrenamiento\n",
        "\n",
        "    J = 0\n",
        "\n",
        "    h = np.dot(X, theta)\n",
        "\n",
        "    J = (1/(2 * m)) * np.sum(np.square(np.dot(X, theta) - y))\n",
        "\n",
        "    return J\n"
      ],
      "metadata": {
        "id": "is_NER384kX5"
      },
      "execution_count": 114,
      "outputs": []
    },
    {
      "cell_type": "code",
      "source": [
        "def gradientDescentMulti(X, y, theta, alpha, num_iters):\n",
        "\n",
        "    # Inicializa algunos valores\n",
        "    m = y.shape[0] # numero de ejemplos de entrenamiento\n",
        "\n",
        "    # realiza una copia de theta, el cual será acutalizada por el descenso por el gradiente\n",
        "    theta = theta.copy()\n",
        "\n",
        "    J_history = []\n",
        "\n",
        "    for i in range(num_iters):\n",
        "        theta = theta - (alpha / m) * (np.dot(X, theta) - y).dot(X)\n",
        "        J_history.append(computeCostMulti(X, y, theta))\n",
        "\n",
        "    return theta, J_history"
      ],
      "metadata": {
        "id": "NTic99Il4k9H"
      },
      "execution_count": 115,
      "outputs": []
    },
    {
      "cell_type": "code",
      "source": [
        "# Elegir algun valor para alpha (probar varias alternativas)\n",
        "alpha = 0.002\n",
        "num_iters = 5000\n",
        "\n",
        "# inicializa theta y ejecuta el descenso por el gradiente\n",
        "theta = np.zeros(9)\n",
        "theta, J_history = gradientDescentMulti(X, y, theta, alpha, num_iters)\n",
        "\n",
        "# Grafica la convergencia del costo\n",
        "pyplot.plot(np.arange(len(J_history)), J_history, lw=2)\n",
        "pyplot.xlabel('Numero de iteraciones')\n",
        "pyplot.ylabel('Costo J')\n",
        "\n",
        "# Muestra los resultados del descenso por el gradiente\n",
        "print('theta calculado por el descenso por el gradiente: {:s}'.format(str(theta)))\n",
        "\n",
        "# Estimar el precio el vino con distintas caracteristicas\n",
        "X_array = [1, 2825, 16, 395, 555, 3.4, 24, 6.25, 18]\n",
        "X_array[1:9] = (X_array[1:9] - mu) / sigma\n",
        "price = np.dot(X_array, theta)\n",
        "\n",
        "print('El valor predecido es (usando el descenso por el gradiente): {:.4f}'.format(price))"
      ],
      "metadata": {
        "colab": {
          "base_uri": "https://localhost:8080/",
          "height": 522
        },
        "id": "2sc2AmKF4qJQ",
        "outputId": "7b53a515-49ce-4999-81d4-e4dc984594cc"
      },
      "execution_count": 119,
      "outputs": [
        {
          "output_type": "stream",
          "name": "stdout",
          "text": [
            "theta calculado por el descenso por el gradiente: [ 2.06193920e+01 -1.11361545e-02 -1.80490442e-03  6.71196790e-03\n",
            " -9.39903378e-03  8.89882413e-02 -1.26048837e-03  3.08040950e+01\n",
            " -4.98576344e-02]\n",
            "El valor predecido es (usando el descenso por el gradiente): 6.1378\n"
          ]
        },
        {
          "output_type": "display_data",
          "data": {
            "text/plain": [
              "<Figure size 640x480 with 1 Axes>"
            ],
            "image/png": "[encoded data removed]"
          },
          "metadata": {}
        }
      ]
    },
    {
      "cell_type": "code",
      "source": [
        "X_array = [1, 2825, 16, 395, 555, 3.4, 24, 6.25, 18]\n",
        "X_array[1:9] = (X_array[1:9] - mu) / sigma"
      ],
      "metadata": {
        "id": "pHpGapUtf4QP"
      },
      "execution_count": 121,
      "outputs": []
    },
    {
      "cell_type": "code",
      "source": [
        "X_array[1:9]"
      ],
      "metadata": {
        "colab": {
          "base_uri": "https://localhost:8080/"
        },
        "id": "c_fhRmzof56K",
        "outputId": "90987307-ee6e-41fd-81f7-be7bb80c0cb6"
      },
      "execution_count": 123,
      "outputs": [
        {
          "output_type": "execute_result",
          "data": {
            "text/plain": [
              "[1.474291135241208,\n",
              " 0.34942761680701756,\n",
              " 1.136807529120279,\n",
              " -0.48386045019129426,\n",
              " -1.5664153775198892,\n",
              " -0.15267705170685006,\n",
              " -0.46469332714432415,\n",
              " 0.4633229135358382]"
            ]
          },
          "metadata": {},
          "execution_count": 123
        }
      ]
    },
    {
      "cell_type": "code",
      "source": [
        "def normalEqn(X, y):\n",
        "\n",
        "    theta = np.zeros(X.shape[1])\n",
        "\n",
        "    theta = np.dot(np.dot(np.linalg.inv(np.dot(X.T,X)),X.T),y)\n",
        "\n",
        "    return theta"
      ],
      "metadata": {
        "id": "_MMoIdODf9FN"
      },
      "execution_count": 124,
      "outputs": []
    },
    {
      "cell_type": "code",
      "source": [
        "# Calcula los parametros con la ecuación de la normal\n",
        "theta = normalEqn(X, y);\n",
        "\n",
        "# Muestra los resultados optenidos a partir de la aplicación de la ecuación de la normal\n",
        "print('Theta calculado a partir de la ecuación de la normal: {:s}'.format(str(theta)));\n",
        "\n",
        "# Estimar el precio para una casa de superficie de 1650 sq-ft y tres dormitorios\n",
        "\n",
        "X_array = [1, 2825, 16, 395, 555, 3.4, 24, 6.25, 18]\n",
        "price = np.dot(X_array, theta)\n",
        "\n",
        "print('Precio predecido para el vino (usando la ecuación de la normal): ${:.0f}'.format(price))"
      ],
      "metadata": {
        "colab": {
          "base_uri": "https://localhost:8080/"
        },
        "id": "E7px4OMrf9un",
        "outputId": "0b40fc66-7317-411a-8785-f27eaabfa74a"
      },
      "execution_count": 125,
      "outputs": [
        {
          "output_type": "stream",
          "name": "stdout",
          "text": [
            "Theta calculado a partir de la ecuación de la normal: [ 2.06203188e+01 -1.77635684e-15 -5.21804822e-15  1.33226763e-15\n",
            " -6.10622664e-16 -3.99680289e-15  8.88178420e-16  3.09243064e+01\n",
            " -1.22124533e-14]\n",
            "Precio predecido para el vino (usando la ecuación de la normal): $214\n"
          ]
        }
      ]
    },
    {
      "cell_type": "code",
      "source": [],
      "metadata": {
        "id": "i2kt0OgW5nIC"
      },
      "execution_count": null,
      "outputs": []
    }
  ]
}